{
 "cells": [
  {
   "cell_type": "code",
   "execution_count": 1,
   "metadata": {},
   "outputs": [
    {
     "name": "stdout",
     "output_type": "stream",
     "text": [
      "Module(body=[FunctionDef(name='add_numbers', args=arguments(posonlyargs=[], args=[arg(arg='a'), arg(arg='b')], kwonlyargs=[], kw_defaults=[], defaults=[]), body=[Return(value=BinOp(left=Name(id='a', ctx=Load()), op=Add(), right=Name(id='b', ctx=Load())))], decorator_list=[])], type_ignores=[])\n"
     ]
    }
   ],
   "source": [
    "import ast\n",
    "\n",
    "# Your Python code as a string\n",
    "python_code = \"\"\"\n",
    "def add_numbers(a, b):\n",
    "    return a + b\n",
    "\"\"\"\n",
    "\n",
    "# Parse the code and generate the AST\n",
    "parsed_ast = ast.parse(python_code)\n",
    "\n",
    "# Now you can work with the AST\n",
    "print(ast.dump(parsed_ast))\n"
   ]
  },
  {
   "cell_type": "code",
   "execution_count": 12,
   "metadata": {},
   "outputs": [
    {
     "name": "stdout",
     "output_type": "stream",
     "text": [
      "DOT code generated successfully. You can use Graphviz tools to visualize the AST.\n"
     ]
    }
   ],
   "source": [
    "import ast\n",
    "import sys\n",
    "\n",
    "class ASTGrapher(ast.NodeVisitor):\n",
    "    def __init__(self):\n",
    "        self.graph = []\n",
    "        self.node_count = 0\n",
    "\n",
    "    def visit(self, node, parent_name=\"\"):\n",
    "        current_node_name = f\"node{self.node_count}\"\n",
    "        self.node_count += 1\n",
    "\n",
    "        if isinstance(node, ast.AST):\n",
    "            self.graph.append(f'{current_node_name} [label=\"{type(node).__name__}\"]')\n",
    "        elif isinstance(node, ast.expr):\n",
    "            lexeme = f\"{ast.get_source_segment(node)}\"\n",
    "            self.graph.append(f'{current_node_name} [label=\"{lexeme}\"]')\n",
    "        else:\n",
    "            self.graph.append(f'{current_node_name} [label=\"{type(node).__name__}\"]')\n",
    "\n",
    "        if parent_name:\n",
    "            self.graph.append(f\"{parent_name} -> {current_node_name}\")\n",
    "\n",
    "        for child_name, child_node in ast.iter_fields(node):\n",
    "            if isinstance(child_node, list):\n",
    "                for child in child_node:\n",
    "                    if isinstance(child, ast.AST):\n",
    "                        self.visit(child, current_node_name)\n",
    "                    elif isinstance(child, ast.expr):\n",
    "                        self.visit(child, current_node_name)\n",
    "            elif isinstance(child_node, ast.AST):\n",
    "                self.visit(child_node, current_node_name)\n",
    "            elif isinstance(child_node, ast.expr):\n",
    "                self.visit(child_node, current_node_name)\n",
    "\n",
    "    def generate_dot(self, code):\n",
    "        parsed_ast = ast.parse(code)\n",
    "        self.visit(parsed_ast)\n",
    "        return \"digraph AST {\\n\" + \"\\n\".join(self.graph) + \"\\n}\"\n",
    "\n",
    "# # Your Python code as a string\n",
    "# python_code = \"\"\"\n",
    "# def add_numbers(a, b):\n",
    "#     return a + b\n",
    "# \"\"\"\n",
    "\n",
    "grapher = ASTGrapher()\n",
    "dot_code = grapher.generate_dot(python_code)\n",
    "\n",
    "# Save the DOT code to a file\n",
    "with open(\"ast_graph.dot\", \"w\") as dot_file:\n",
    "    dot_file.write(dot_code)\n",
    "\n",
    "print(\"DOT code generated successfully. You can use Graphviz tools to visualize the AST.\")\n"
   ]
  },
  {
   "cell_type": "code",
   "execution_count": null,
   "metadata": {},
   "outputs": [],
   "source": []
  }
 ],
 "metadata": {
  "kernelspec": {
   "display_name": "Python 3",
   "language": "python",
   "name": "python3"
  },
  "language_info": {
   "codemirror_mode": {
    "name": "ipython",
    "version": 3
   },
   "file_extension": ".py",
   "mimetype": "text/x-python",
   "name": "python",
   "nbconvert_exporter": "python",
   "pygments_lexer": "ipython3",
   "version": "3.9.6"
  }
 },
 "nbformat": 4,
 "nbformat_minor": 2
}
